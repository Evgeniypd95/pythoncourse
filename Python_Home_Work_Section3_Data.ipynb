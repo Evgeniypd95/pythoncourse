{
 "cells": [
  {
   "cell_type": "code",
   "execution_count": 44,
   "metadata": {},
   "outputs": [
    {
     "name": "stdout",
     "output_type": "stream",
     "text": [
      "Profits are: [2522.67, 1911.39, -3707.79, -2914.31, -599.92, 7265.24, 8210.55, 3944.97, 3328.39, -2238.65, 659.6, 11629.54] \n",
      " Profit after tax is: [1765.87, 1337.97, -2595.45, -2040.02, -419.94, 5085.67, 5747.38, 2761.48, 2329.87, -1567.06, 461.72, 8140.68] \n",
      " Profit margins: [12.0, 18.0, -30.0, -22.0, -5.0, 63.0, 50.0, 28.0, 23.0, -11.0, 4.0, 53.0] \n",
      " best month is 8140.68 \n",
      " worst month is -2595.45\n"
     ]
    }
   ],
   "source": [
    "#Data \n",
    "revenue = [14574.49, 7606.46, 8611.41, 9175.41, 8058.65, 8105.44, 11496.28, 9766.09, 10305.32, 14379.96, 10713.97, 15433.50]\n",
    "expenses = [12051.82, 5695.07, 12319.20, 12089.72, 8658.57, 840.20, 3285.73, 5821.12, 6976.93, 16618.61, 10054.37, 3803.96]\n",
    "\n",
    "import numpy\n",
    "profit = []\n",
    "\n",
    "for i in range(0,len(revenue)):\n",
    "    profit.append(revenue[i]-expenses[i])    \n",
    "profit = [round((i),2) for i in profit]\n",
    "\n",
    "profit_after_tax = []\n",
    "\n",
    "for i in range(0, len(profit)):\n",
    "    profit_after_tax.append(profit[i]*0.7)\n",
    "profit_after_tax = [round((i),2) for i in profit_after_tax]\n",
    "\n",
    "profit_margin = []\n",
    "\n",
    "for i in range(0, len(profit_after_tax)):\n",
    "    profit_margin.append((profit_after_tax[i]/revenue[i])*100)\n",
    "profit_margin\n",
    "\n",
    "profit_margin = []\n",
    "\n",
    "for i in range(0, len(profit_after_tax)):\n",
    "    profit_margin.append(round(((profit_after_tax[i]/revenue[i])*100),0))\n",
    "profit_margin\n",
    "\n",
    "good_months = []\n",
    "meanyear = numpy.mean(profit_after_tax)\n",
    "\n",
    "for i in range(0, len(profit_after_tax)):\n",
    "    if (profit_after_tax[i]>meanyear):\n",
    "        good_months.append(profit_after_tax[i])\n",
    "good_months\n",
    "\n",
    "bad_months = []\n",
    "meanyear = numpy.mean(profit_after_tax)\n",
    "\n",
    "for i in range(0, len(profit_after_tax)):\n",
    "    if (profit_after_tax[i]<meanyear):\n",
    "        bad_months.append(profit_after_tax[i])\n",
    "bad_months\n",
    "\n",
    "best_month = max(profit_after_tax)\n",
    "best_month\n",
    "\n",
    "worst_month = min(profit_after_tax)\n",
    "\n",
    "print(\"Profits are:\",profit,\"\\n\",\"Profit after tax is:\",profit_after_tax,\"\\n\",\"Profit margins:\",profit_margin,\"\\n\", \"best month is\",best_month,\"\\n\",\"worst month is\",worst_month)"
   ]
  },
  {
   "cell_type": "code",
   "execution_count": null,
   "metadata": {},
   "outputs": [],
   "source": []
  }
 ],
 "metadata": {
  "kernelspec": {
   "display_name": "Python 3",
   "language": "python",
   "name": "python3"
  },
  "language_info": {
   "codemirror_mode": {
    "name": "ipython",
    "version": 3
   },
   "file_extension": ".py",
   "mimetype": "text/x-python",
   "name": "python",
   "nbconvert_exporter": "python",
   "pygments_lexer": "ipython3",
   "version": "3.7.6"
  }
 },
 "nbformat": 4,
 "nbformat_minor": 1
}
