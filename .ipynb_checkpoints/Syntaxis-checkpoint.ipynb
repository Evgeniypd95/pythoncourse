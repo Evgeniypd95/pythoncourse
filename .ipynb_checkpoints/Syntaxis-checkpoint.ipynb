{
 "cells": [
  {
   "cell_type": "code",
   "execution_count": 1,
   "metadata": {},
   "outputs": [],
   "source": [
    "a = 10\n",
    "b=1"
   ]
  },
  {
   "cell_type": "code",
   "execution_count": 2,
   "metadata": {},
   "outputs": [
    {
     "data": {
      "text/plain": [
       "11"
      ]
     },
     "execution_count": 2,
     "metadata": {},
     "output_type": "execute_result"
    }
   ],
   "source": [
    "a+b"
   ]
  },
  {
   "cell_type": "code",
   "execution_count": 3,
   "metadata": {},
   "outputs": [],
   "source": [
    "result=not(4>1)"
   ]
  },
  {
   "cell_type": "code",
   "execution_count": 4,
   "metadata": {},
   "outputs": [
    {
     "data": {
      "text/plain": [
       "False"
      ]
     },
     "execution_count": 4,
     "metadata": {},
     "output_type": "execute_result"
    }
   ],
   "source": [
    "result"
   ]
  },
  {
   "cell_type": "code",
   "execution_count": 5,
   "metadata": {},
   "outputs": [
    {
     "data": {
      "text/plain": [
       "bool"
      ]
     },
     "execution_count": 5,
     "metadata": {},
     "output_type": "execute_result"
    }
   ],
   "source": [
    "type(result)"
   ]
  },
  {
   "cell_type": "code",
   "execution_count": 6,
   "metadata": {},
   "outputs": [
    {
     "data": {
      "text/plain": [
       "3"
      ]
     },
     "execution_count": 6,
     "metadata": {},
     "output_type": "execute_result"
    }
   ],
   "source": [
    "1+2"
   ]
  },
  {
   "cell_type": "code",
   "execution_count": 7,
   "metadata": {},
   "outputs": [
    {
     "name": "stdout",
     "output_type": "stream",
     "text": [
      "0\n",
      "1\n",
      "2\n",
      "3\n",
      "4\n",
      "5\n",
      "6\n",
      "7\n",
      "8\n",
      "9\n",
      "10\n",
      "11\n",
      "Hello\n"
     ]
    }
   ],
   "source": [
    "counter=0\n",
    "while counter <12:\n",
    "    print(counter)\n",
    "    counter=counter+1\n",
    "print(\"Hello\")"
   ]
  },
  {
   "cell_type": "code",
   "execution_count": 8,
   "metadata": {},
   "outputs": [
    {
     "data": {
      "text/plain": [
       "range(0, 5)"
      ]
     },
     "execution_count": 8,
     "metadata": {},
     "output_type": "execute_result"
    }
   ],
   "source": [
    "range(5)"
   ]
  },
  {
   "cell_type": "code",
   "execution_count": 10,
   "metadata": {},
   "outputs": [
    {
     "data": {
      "text/plain": [
       "[0, 1, 2, 3, 4]"
      ]
     },
     "execution_count": 10,
     "metadata": {},
     "output_type": "execute_result"
    }
   ],
   "source": [
    "list(range(5))"
   ]
  },
  {
   "cell_type": "code",
   "execution_count": 11,
   "metadata": {},
   "outputs": [
    {
     "name": "stdout",
     "output_type": "stream",
     "text": [
      "hello 0\n",
      "hello 1\n",
      "hello 2\n",
      "hello 3\n",
      "hello 4\n"
     ]
    }
   ],
   "source": [
    "for i in range(5):\n",
    "    print(\"hello\", i)"
   ]
  },
  {
   "cell_type": "code",
   "execution_count": 12,
   "metadata": {},
   "outputs": [],
   "source": [
    "import numpy as np\n",
    "from numpy.random import randn"
   ]
  },
  {
   "cell_type": "code",
   "execution_count": 13,
   "metadata": {},
   "outputs": [
    {
     "data": {
      "text/plain": [
       "2.0576721483581175"
      ]
     },
     "execution_count": 13,
     "metadata": {},
     "output_type": "execute_result"
    }
   ],
   "source": [
    "randn()"
   ]
  },
  {
   "cell_type": "code",
   "execution_count": 17,
   "metadata": {},
   "outputs": [
    {
     "data": {
      "text/plain": [
       "-1.9954993941542807"
      ]
     },
     "execution_count": 17,
     "metadata": {},
     "output_type": "execute_result"
    }
   ],
   "source": [
    "randn()"
   ]
  },
  {
   "cell_type": "code",
   "execution_count": 2,
   "metadata": {},
   "outputs": [
    {
     "name": "stdout",
     "output_type": "stream",
     "text": [
      "num: -0.9129112727275965\n",
      "num: -0.9475424531440405\n",
      "num: 0.664768652905745\n",
      "num: -0.16940549484447595\n",
      "num: 0.3146772505032781\n",
      "num: 2.346210229906734\n",
      "num: 3.0231113594291745\n",
      "num: -1.7164151372708512\n",
      "num: -1.5135073207347707\n",
      "num: 0.6984503769237984\n",
      "num: 0.7004879356018779\n",
      "num: -2.8327347805485426\n",
      "num: -1.000241850129721\n",
      "num: -0.7865738456321786\n",
      "num: -0.06749685496801351\n",
      "num: -0.29504481365134433\n",
      "num: -0.5043030645982006\n",
      "num: 0.12788053517726128\n",
      "num: -1.1358699834368922\n",
      "num: -1.059532961603678\n",
      "num: 2.0901600364899977\n",
      "num: -0.1875820221561075\n",
      "num: -0.7066082311396268\n",
      "num: 2.0833168708551986\n",
      "num: -0.7987662697581928\n",
      "num: -0.6942727305888818\n",
      "num: 0.8140192130297429\n",
      "num: 0.2541810529957924\n",
      "num: 0.08017092792671578\n",
      "num: 0.6131841431483822\n",
      "num: -2.10846242476153\n",
      "num: 0.49484383852878383\n",
      "num: 0.5262683187964942\n",
      "num: 0.4811770092302973\n",
      "num: 0.745603236423444\n",
      "num: -0.785672655473104\n",
      "num: -0.43544292758600583\n",
      "num: -0.6133876202875268\n",
      "num: -1.9644249742584223\n",
      "num: 0.17951629658318752\n",
      "num: 0.07250113869840781\n",
      "num: -0.9963168983233804\n",
      "num: 0.3485304965015904\n",
      "num: 1.1064300412750436\n",
      "num: -1.7603827430102847\n",
      "num: 1.1290174093702117\n",
      "num: 0.7299509125797463\n",
      "num: 0.5245552820814504\n",
      "num: -0.7039686989899818\n",
      "num: 0.7628806548487606\n",
      "num: -0.0422058453519749\n",
      "num: -0.3076324132505006\n",
      "num: 0.700651999070896\n",
      "num: -0.9388436754368849\n",
      "num: -1.0898208929497466\n",
      "num: -0.0441108634697459\n",
      "num: 1.8709866011434408\n",
      "num: -1.655475118184197\n",
      "num: -1.0941502188175067\n",
      "num: -0.7816702686292625\n",
      "num: 0.25861864047863037\n",
      "num: 1.3586658569902095\n",
      "num: 0.9747399387454607\n",
      "num: 1.0373120153982722\n",
      "num: 0.32990011902793537\n",
      "num: 0.2757009410235904\n",
      "num: -0.12362908330295544\n",
      "num: -0.5250644901178655\n",
      "num: 1.501993173907899\n",
      "num: -1.2032123564378052\n",
      "num: -1.13028151281266\n",
      "num: -1.635114727359955\n",
      "num: 0.4717252105111452\n",
      "num: 0.3986316462031075\n",
      "num: 0.8040081508404577\n",
      "num: 0.9126121109023094\n",
      "num: -0.5714962448223113\n",
      "num: -0.5363732615461041\n",
      "num: -0.5919569782243821\n",
      "num: -0.022677327321649093\n",
      "num: 0.3906773381752942\n",
      "num: -0.8082252882541023\n",
      "num: 0.6544526659277076\n",
      "num: -0.8309302172422408\n",
      "num: 2.3008641497959004\n",
      "num: 0.8432826185645346\n",
      "num: -0.15135814169408246\n",
      "num: 1.0765021783007083\n",
      "num: 1.54021107050112\n",
      "num: 0.570782150451863\n",
      "num: 0.4488687229453027\n",
      "num: -0.41471066509886345\n",
      "num: 0.9498037667212983\n",
      "num: -1.1483136398387064\n",
      "num: 0.7916004841120241\n",
      "num: -0.938493988472638\n",
      "num: 0.38351710312674836\n",
      "num: 0.32576827909735767\n",
      "num: -0.5177924408028244\n",
      "num: 0.6760047789840677\n"
     ]
    }
   ],
   "source": [
    "import numpy as np\n",
    "from numpy.random import randn\n",
    "for i in randn(100):\n",
    "     if "
   ]
  },
  {
   "cell_type": "code",
   "execution_count": null,
   "metadata": {},
   "outputs": [],
   "source": []
  }
 ],
 "metadata": {
  "kernelspec": {
   "display_name": "Python 3",
   "language": "python",
   "name": "python3"
  },
  "language_info": {
   "codemirror_mode": {
    "name": "ipython",
    "version": 3
   },
   "file_extension": ".py",
   "mimetype": "text/x-python",
   "name": "python",
   "nbconvert_exporter": "python",
   "pygments_lexer": "ipython3",
   "version": "3.7.6"
  }
 },
 "nbformat": 4,
 "nbformat_minor": 4
}
